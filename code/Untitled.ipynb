{
 "cells": [
  {
   "cell_type": "code",
   "execution_count": 3,
   "id": "c8ccd3a4",
   "metadata": {},
   "outputs": [],
   "source": [
    "import numpy as np\n"
   ]
  },
  {
   "cell_type": "code",
   "execution_count": 4,
   "id": "21f67917",
   "metadata": {},
   "outputs": [],
   "source": [
    "a=np.ndarray((2,4))"
   ]
  },
  {
   "cell_type": "code",
   "execution_count": 5,
   "id": "adeaafc9",
   "metadata": {},
   "outputs": [
    {
     "data": {
      "application/vnd.jupyter.widget-view+json": {
       "model_id": "d234a84c95444a02a3769326e5d4c3a5",
       "version_major": 2,
       "version_minor": 0
      },
      "text/plain": [
       "Text(value='')"
      ]
     },
     "metadata": {},
     "output_type": "display_data"
    },
    {
     "name": "stdout",
     "output_type": "stream",
     "text": [
      "hellow world\n"
     ]
    }
   ],
   "source": [
    "import ipywidgets as widgets\t# 控件库\n",
    "from IPython.display import display\t# 显示控件的方法\n",
    "text = widgets.Text()\n",
    "display(text)\n",
    "\n",
    "def print_value(sender):\n",
    "    print(sender.value)\n",
    "\n",
    "text.on_submit(print_value)\t# 回车以提交内容"
   ]
  },
  {
   "cell_type": "code",
   "execution_count": 6,
   "id": "ed8258c6",
   "metadata": {},
   "outputs": [
    {
     "data": {
      "text/plain": [
       "array([[0.00000000e+000, 0.00000000e+000, 0.00000000e+000,\n",
       "        0.00000000e+000],\n",
       "       [0.00000000e+000, 7.88528771e-321, 5.34518008e-309,\n",
       "        0.00000000e+000]])"
      ]
     },
     "execution_count": 6,
     "metadata": {},
     "output_type": "execute_result"
    }
   ],
   "source": [
    "a"
   ]
  },
  {
   "cell_type": "code",
   "execution_count": 22,
   "id": "b2057cdd",
   "metadata": {},
   "outputs": [
    {
     "ename": "SyntaxError",
     "evalue": "invalid character '：' (U+FF1A) (Temp/ipykernel_26520/2854733279.py, line 1)",
     "output_type": "error",
     "traceback": [
      "\u001b[1;36m  File \u001b[1;32m\"C:\\Users\\metsusa\\AppData\\Local\\Temp/ipykernel_26520/2854733279.py\"\u001b[1;36m, line \u001b[1;32m1\u001b[0m\n\u001b[1;33m    b=a[:,：]\u001b[0m\n\u001b[1;37m          ^\u001b[0m\n\u001b[1;31mSyntaxError\u001b[0m\u001b[1;31m:\u001b[0m invalid character '：' (U+FF1A)\n"
     ]
    }
   ],
   "source": [
    "b=a[:,:]\n",
    "b"
   ]
  }
 ],
 "metadata": {
  "kernelspec": {
   "display_name": "Python 3 (ipykernel)",
   "language": "python",
   "name": "python3"
  },
  "language_info": {
   "codemirror_mode": {
    "name": "ipython",
    "version": 3
   },
   "file_extension": ".py",
   "mimetype": "text/x-python",
   "name": "python",
   "nbconvert_exporter": "python",
   "pygments_lexer": "ipython3",
   "version": "3.9.7"
  }
 },
 "nbformat": 4,
 "nbformat_minor": 5
}
